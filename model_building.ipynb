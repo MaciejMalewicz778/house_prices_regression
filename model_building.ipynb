{
 "cells": [
  {
   "cell_type": "markdown",
   "metadata": {},
   "source": [
    "# The analysis of data and ideas how it can be transformed in case of predicting *SalePrice* is present in *analysis.ipynb* notebook."
   ]
  },
  {
   "cell_type": "code",
   "execution_count": 1,
   "metadata": {},
   "outputs": [
    {
     "name": "stderr",
     "output_type": "stream",
     "text": [
      "c:\\Python38\\lib\\site-packages\\numpy\\_distributor_init.py:30: UserWarning: loaded more than 1 DLL from .libs:\n",
      "c:\\Python38\\lib\\site-packages\\numpy\\.libs\\libopenblas.EL2C6PLE4ZYW3ECEVIV3OXXGRN2NRFM2.gfortran-win_amd64.dll\n",
      "c:\\Python38\\lib\\site-packages\\numpy\\.libs\\libopenblas64__v0.3.21-gcc_10_3_0.dll\n",
      "  warnings.warn(\"loaded more than 1 DLL from .libs:\"\n"
     ]
    }
   ],
   "source": [
    "import pandas as pd \n",
    "import numpy as np \n",
    "from scipy.stats import spearmanr\n",
    "from IPython.display import display, HTML\n",
    "import matplotlib.pyplot as plt\n",
    "import seaborn as sns\n",
    "from sklearn.model_selection import train_test_split\n",
    "\n"
   ]
  },
  {
   "cell_type": "code",
   "execution_count": 1,
   "metadata": {},
   "outputs": [],
   "source": [
    "CV_NO_FOLDS = 5\n",
    "RANDOM_STATE = 17"
   ]
  },
  {
   "cell_type": "code",
   "execution_count": 2,
   "metadata": {},
   "outputs": [],
   "source": [
    "def scrollable_dataframe(df):\n",
    "    \n",
    "    table_html = df.to_html(classes='table',\n",
    "                            table_id='scrollable_table', \n",
    "                            escape=False)\n",
    "\n",
    "    html = f'''\n",
    "    <div style=\"width: 100%; height:400px; overflow:scroll;\">\n",
    "            <style>\n",
    "             td, th {{\n",
    "                white-space: nowrap;\n",
    "                width: 100px;\n",
    "                padding: 10px;\n",
    "            }}\n",
    "        </style>\n",
    "        {table_html}\n",
    "    </div>\n",
    "    '''\n",
    "\n",
    "    return display(HTML(html))"
   ]
  },
  {
   "cell_type": "code",
   "execution_count": 3,
   "metadata": {},
   "outputs": [],
   "source": [
    "\n",
    "data_train = pd.read_csv('train.csv')"
   ]
  },
  {
   "cell_type": "code",
   "execution_count": 4,
   "metadata": {},
   "outputs": [],
   "source": [
    "X_train, X_test, y_train, y_test = train_test_split(data_train.drop(columns=['SalePrice', 'Id']), data_train[['SalePrice']], test_size=0.25, random_state=RANDOM_STATE)"
   ]
  },
  {
   "cell_type": "markdown",
   "metadata": {},
   "source": [
    "## Data cleaning.\n",
    "### As stated in *analysis* notebook:\n",
    "##### - I will fill numerical features with median\n",
    "##### - I will fill categorical features with 'Unknown' label or with majority class depending on how numerous a particular feature is\n",
    "##### - I will drop columns with too numeours majority class or missing values"
   ]
  },
  {
   "cell_type": "code",
   "execution_count": 5,
   "metadata": {},
   "outputs": [],
   "source": [
    "# helper function to decide how to deal with missing values for categorical columns\n",
    "def unknownOrMajoritySplit(data: pd.DataFrame) -> (list, list):\n",
    "    unknownCols = []\n",
    "    majorityCols = []\n",
    "    desc = data.describe().T\n",
    "    length = len(data)\n",
    "    for index, row in desc.iterrows():\n",
    "        freq = row['freq']\n",
    "        if freq / length >= 0.8:\n",
    "            majorityCols.append(index)\n",
    "        else:\n",
    "            unknownCols.append(index)\n",
    "    \n",
    "    return (unknownCols, majorityCols)"
   ]
  },
  {
   "cell_type": "code",
   "execution_count": 6,
   "metadata": {},
   "outputs": [],
   "source": [
    "cats = X_train.select_dtypes(include=[object, bool])\n",
    "unknownCols, majorityCols = unknownOrMajoritySplit(cats)"
   ]
  },
  {
   "cell_type": "markdown",
   "metadata": {},
   "source": [
    "### The plan is following \n",
    "#### clean data -> fill_missing values separately -> add new features and remove some of the existing ones"
   ]
  },
  {
   "cell_type": "markdown",
   "metadata": {},
   "source": [
    "### Similar functions like below I created in *analysis.ipynb* notebook"
   ]
  },
  {
   "cell_type": "code",
   "execution_count": 7,
   "metadata": {},
   "outputs": [],
   "source": [
    "import math\n",
    "\n",
    "def adjustNumerical(data: pd.DataFrame) -> pd.DataFrame:\n",
    "    copy = data.copy()\n",
    "    # convert MSSubClass to categorical as it is probably not ordinal\n",
    "    copy['CatMSSubClass'] = copy['MSSubClass'].astype(object)\n",
    "    # convert OveralCond to categorical as it is probably not ordinal (it should be ordinal but but SalePrice does not increase as OveralQual increase)\n",
    "    copy['CatOverallCond'] = copy['OverallCond'].astype(object)\n",
    "    copy['CatMoSold'] = copy['MoSold'].astype(object)\n",
    "    copy['CatYrSold'] = copy['YrSold'].astype(object)\n",
    "\n",
    "    # drop columns which I saved under another column name  \n",
    "    copy.drop(columns=['MoSold', 'YrSold', 'OverallCond', 'MSSubClass'], inplace=True)\n",
    "    #copy.drop(columns='BedroomAbvGr', inplace=True)\n",
    "    \n",
    "    copy['TotalSqrFt'] = copy['GrLivArea'] + copy['GarageArea']\n",
    "    copy['IsGarage'] = copy['GarageArea'].apply(lambda x: x if math.isnan(x) else (1 if x > 0 else 0)).astype(object)\n",
    "    copy['Is2ndFlr'] = copy['2ndFlrSF'].apply(lambda x: x if math.isnan(x) else (1 if x > 0 else 0)).astype(object)\n",
    "\n",
    "    # drop redundant features\n",
    "    copy.drop(columns=['1stFlrSF', '2ndFlrSF', 'GrLivArea', 'TotalBsmtSF'], inplace=True)\n",
    "\n",
    "    copy['WasRemod'] = copy['YearRemodAdd'].apply(lambda x: x if math.isnan(x) else (1 if x > 0 else 0)).astype(object)\n",
    "\n",
    "    # drop redundant features\n",
    "    copy.drop(columns=['YearRemodAdd'], inplace=True)\n",
    "\n",
    "    return copy\n",
    "\n",
    "new_cat = ['IsGarage', 'Is2ndFlr', 'WasRemod', 'CatMSSubClass', 'CatOverallCond', 'CatMoSold']\n",
    "new_num = ['TotalSqrFt']\n",
    "ordinal = ['OverallQual']"
   ]
  },
  {
   "cell_type": "code",
   "execution_count": 8,
   "metadata": {},
   "outputs": [],
   "source": [
    "# helper functions\n",
    "def qual_mapper(value):\n",
    "    if value == 'Po':\n",
    "        return 1\n",
    "    if value == 'Fa':\n",
    "        return 2\n",
    "    if value == 'TA':\n",
    "        return 3\n",
    "    if value == 'Gd':\n",
    "        return 4\n",
    "    if value == 'Ex':\n",
    "        return 5\n",
    "    # I treat nan as 1\n",
    "    return 0\n",
    "\n",
    "def MasVnrType_mapper(value):\n",
    "    if value == 'None' or value == 'BrkCmn':\n",
    "        return 1\n",
    "    if value == 'BrkFace':\n",
    "        return 2\n",
    "    if value == 'Stone':\n",
    "        return 3\n",
    "    # I treat nan equally as None\n",
    "    return 1\n",
    "\n",
    "def garage_mapper(value):\n",
    "    if value == 'Unf':\n",
    "        return 1\n",
    "    if value == 'Rfn':\n",
    "        return 2\n",
    "    if value == 'Fin':\n",
    "        return 3\n",
    "    # I treat nan equally as Unf\n",
    "    return 1\n",
    "\n",
    "def toOrdinalFn(col: str):\n",
    "    fn = 0\n",
    "    if col == 'GarageFinish':\n",
    "        fn = garage_mapper\n",
    "    elif col == 'MasVnrType':\n",
    "        fn = MasVnrType_mapper\n",
    "    else:\n",
    "        fn = qual_mapper\n",
    "    return fn"
   ]
  },
  {
   "cell_type": "code",
   "execution_count": 9,
   "metadata": {},
   "outputs": [],
   "source": [
    "potencial_ordinal = [\"ExterQual\", \"FireplaceQu\", \"GarageFinish\", \"MasVnrType\", \"BsmtQual\", \"HeatingQC\", \"KitchenQual\", \"GarageQual\"]\n",
    "\n",
    "def adjustCategorical(df: pd.DataFrame, drop_some_cols=False) -> pd.DataFrame:\n",
    "    cpy = df.copy()\n",
    "    # transform some columns from categorical to ordinal\n",
    "    for i in potencial_ordinal:\n",
    "        cpy[i] = cpy[i].apply(toOrdinalFn(i))\n",
    "\n",
    "    if drop_some_cols:\n",
    "        too_many_majority = ['Utilities', 'Street', 'Condition2', 'RoofMatl', 'Heating', \n",
    "                        'LandSlope', 'CentralAir', 'Functional', 'PavedDrive', 'Electrical', 'GarageCond']\n",
    "        too_many_missing = ['Alley', 'PoolQC', 'MiscFeature']\n",
    "        cols_to_remove = too_many_majority + too_many_missing\n",
    "        cpy.drop(columns=cols_to_remove, inplace=True)\n",
    "\n",
    "    return cpy\n",
    "\n",
    "ordinal = list(set(ordinal + potencial_ordinal))"
   ]
  },
  {
   "cell_type": "code",
   "execution_count": 10,
   "metadata": {},
   "outputs": [],
   "source": [
    "def adjustFeatures(df:pd.DataFrame) -> pd.DataFrame:\n",
    "    cpy = df.copy()\n",
    "    cpy = adjustNumerical(cpy)\n",
    "    cpy = adjustCategorical(cpy)\n",
    "\n",
    "    return cpy"
   ]
  },
  {
   "cell_type": "code",
   "execution_count": 15,
   "metadata": {},
   "outputs": [],
   "source": [
    "from sklearn.impute import SimpleImputer\n",
    "unknownImputer = SimpleImputer(strategy='constant', fill_value='Unknown')\n",
    "majorityImputer = SimpleImputer(strategy='most_frequent')\n",
    "\n",
    "# I do it by hand because something was going wrong when I tried to such action in Pipeline\n",
    "\n",
    "X_train_prep = X_train.copy()\n",
    "X_test_prep = X_test.copy()\n",
    "\n",
    "X_train_prep[unknownCols] = unknownImputer.fit_transform(X_train_prep[unknownCols])\n",
    "X_test_prep[unknownCols] = unknownImputer.transform(X_test[unknownCols])\n",
    "\n",
    "X_train_prep[majorityCols] = majorityImputer.fit_transform(X_train_prep[majorityCols])\n",
    "X_test_prep[majorityCols] = majorityImputer.transform(X_test_prep[majorityCols])"
   ]
  },
  {
   "cell_type": "code",
   "execution_count": 16,
   "metadata": {},
   "outputs": [],
   "source": [
    "X_train_prep = adjustFeatures(X_train_prep)\n",
    "X_test_prep = adjustFeatures(X_test_prep)"
   ]
  },
  {
   "cell_type": "code",
   "execution_count": 17,
   "metadata": {},
   "outputs": [],
   "source": [
    "cat_cols = list(X_train_prep.select_dtypes(include=[object, 'category']).columns)\n",
    "num_cols = list(X_train_prep.select_dtypes(include=np.number).columns)"
   ]
  },
  {
   "cell_type": "code",
   "execution_count": null,
   "metadata": {},
   "outputs": [
    {
     "name": "stdout",
     "output_type": "stream",
     "text": [
      "['MSZoning', 'Street', 'Alley', 'LotShape', 'LandContour', 'Utilities', 'LotConfig', 'LandSlope', 'Neighborhood', 'Condition1', 'Condition2', 'BldgType', 'HouseStyle', 'RoofStyle', 'RoofMatl', 'Exterior1st', 'Exterior2nd', 'ExterCond', 'Foundation', 'BsmtCond', 'BsmtExposure', 'BsmtFinType1', 'BsmtFinType2', 'Heating', 'CentralAir', 'Electrical', 'Functional', 'GarageType', 'GarageCond', 'PavedDrive', 'PoolQC', 'Fence', 'MiscFeature', 'SaleType', 'SaleCondition', 'CatMSSubClass', 'CatOverallCond', 'CatMoSold', 'CatYrSold', 'IsGarage', 'Is2ndFlr', 'WasRemod']\n",
      "['LotFrontage', 'LotArea', 'OverallQual', 'YearBuilt', 'MasVnrType', 'MasVnrArea', 'ExterQual', 'BsmtQual', 'BsmtFinSF1', 'BsmtFinSF2', 'BsmtUnfSF', 'HeatingQC', 'LowQualFinSF', 'BsmtFullBath', 'BsmtHalfBath', 'FullBath', 'HalfBath', 'BedroomAbvGr', 'KitchenAbvGr', 'KitchenQual', 'TotRmsAbvGrd', 'Fireplaces', 'FireplaceQu', 'GarageYrBlt', 'GarageFinish', 'GarageCars', 'GarageArea', 'GarageQual', 'WoodDeckSF', 'OpenPorchSF', 'EnclosedPorch', '3SsnPorch', 'ScreenPorch', 'PoolArea', 'MiscVal', 'TotalSqrFt']\n"
     ]
    }
   ],
   "source": [
    "print(cat_cols)\n",
    "print(num_cols)"
   ]
  },
  {
   "cell_type": "markdown",
   "metadata": {},
   "source": []
  },
  {
   "cell_type": "code",
   "execution_count": null,
   "metadata": {},
   "outputs": [],
   "source": [
    "# from sklearn.preprocessing import OneHotEncoder, StandardScaler, FunctionTransformer\n",
    "# from sklearn.compose import ColumnTransformer\n",
    "# from sklearn.impute import SimpleImputer\n",
    "# from sklearn.pipeline import Pipeline\n",
    "\n",
    "# cat_unknown_transformer = Pipeline(\n",
    "#     steps=[('cat_unknown', SimpleImputer(missing_values='Unknown'))]\n",
    "# )\n",
    "# cat_majority_transformer = Pipeline(\n",
    "#     steps=[('cat_majority', SimpleImputer(strategy='most_frequent'))]\n",
    "# )\n",
    "# cat_general_transformer = Pipeline(\n",
    "#     steps=[('cat_general', OneHotEncoder(handle_unknown='ignore'))]\n",
    "# )\n",
    "# num_transformer = Pipeline(\n",
    "#     steps=[('num', SimpleImputer(strategy='median'), ('scaler' ,StandardScaler()))]\n",
    "# )\n",
    "# new_features_transformer = FunctionTransformer(adjustFeatures)\n",
    "\n",
    "# preprocessor = ColumnTransformer(\n",
    "#     transformers=[\n",
    "#         ('num', num_transformer, num_cols),\n",
    "#         ('cat_majority', cat_majority_transformer, majorityCols),\n",
    "#         ('cat_unknown', cat_unknown_transformer, unknownCols),\n",
    "#         ('new_features', new_features_transformer, cat_cols + num_cols),\n",
    "#         ('cat_general_transformer', cat_general_transformer, cat_cols)\n",
    "#     ],remainder = 'passthrough'\n",
    "# )\n",
    "\n",
    "\n",
    "# def getPipeline(model):\n",
    "#     pipe = Pipeline(\n",
    "#     steps=[(\"preprocessor\", preprocessor), (\"model\", model)]\n",
    "#     )\n",
    "\n",
    "#     return pipe"
   ]
  },
  {
   "cell_type": "code",
   "execution_count": 18,
   "metadata": {},
   "outputs": [],
   "source": [
    "from sklearn.preprocessing import OneHotEncoder, StandardScaler, FunctionTransformer\n",
    "from sklearn.compose import ColumnTransformer\n",
    "from sklearn.impute import SimpleImputer\n",
    "from sklearn.pipeline import Pipeline\n",
    "\n",
    "def getPipeline(model, num, cat):\n",
    "    cat_transformer = Pipeline(\n",
    "        steps=[('encoder', OneHotEncoder(handle_unknown='ignore'))]\n",
    "    )\n",
    "    num_transformer = Pipeline(\n",
    "        steps=[('num', SimpleImputer(strategy='median')), ('scaler' ,StandardScaler())]\n",
    "    )\n",
    "\n",
    "    preprocessor = ColumnTransformer(\n",
    "        transformers=[\n",
    "            ('num', num_transformer, num),\n",
    "            ('cat', cat_transformer, cat),\n",
    "        ]\n",
    "    )\n",
    "\n",
    "    pipe = Pipeline(\n",
    "    steps=[(\"preprocessor\", preprocessor), (\"model\", model)]\n",
    "    )\n",
    "\n",
    "    return pipe"
   ]
  },
  {
   "cell_type": "markdown",
   "metadata": {},
   "source": [
    "### How good can be LinearModel with many iterations on RandomizedSearchCV?"
   ]
  },
  {
   "cell_type": "code",
   "execution_count": 19,
   "metadata": {},
   "outputs": [
    {
     "name": "stdout",
     "output_type": "stream",
     "text": [
      "Fitting 5 folds for each of 250 candidates, totalling 1250 fits\n"
     ]
    },
    {
     "data": {
      "text/html": [
       "<style>#sk-container-id-1 {color: black;background-color: white;}#sk-container-id-1 pre{padding: 0;}#sk-container-id-1 div.sk-toggleable {background-color: white;}#sk-container-id-1 label.sk-toggleable__label {cursor: pointer;display: block;width: 100%;margin-bottom: 0;padding: 0.3em;box-sizing: border-box;text-align: center;}#sk-container-id-1 label.sk-toggleable__label-arrow:before {content: \"▸\";float: left;margin-right: 0.25em;color: #696969;}#sk-container-id-1 label.sk-toggleable__label-arrow:hover:before {color: black;}#sk-container-id-1 div.sk-estimator:hover label.sk-toggleable__label-arrow:before {color: black;}#sk-container-id-1 div.sk-toggleable__content {max-height: 0;max-width: 0;overflow: hidden;text-align: left;background-color: #f0f8ff;}#sk-container-id-1 div.sk-toggleable__content pre {margin: 0.2em;color: black;border-radius: 0.25em;background-color: #f0f8ff;}#sk-container-id-1 input.sk-toggleable__control:checked~div.sk-toggleable__content {max-height: 200px;max-width: 100%;overflow: auto;}#sk-container-id-1 input.sk-toggleable__control:checked~label.sk-toggleable__label-arrow:before {content: \"▾\";}#sk-container-id-1 div.sk-estimator input.sk-toggleable__control:checked~label.sk-toggleable__label {background-color: #d4ebff;}#sk-container-id-1 div.sk-label input.sk-toggleable__control:checked~label.sk-toggleable__label {background-color: #d4ebff;}#sk-container-id-1 input.sk-hidden--visually {border: 0;clip: rect(1px 1px 1px 1px);clip: rect(1px, 1px, 1px, 1px);height: 1px;margin: -1px;overflow: hidden;padding: 0;position: absolute;width: 1px;}#sk-container-id-1 div.sk-estimator {font-family: monospace;background-color: #f0f8ff;border: 1px dotted black;border-radius: 0.25em;box-sizing: border-box;margin-bottom: 0.5em;}#sk-container-id-1 div.sk-estimator:hover {background-color: #d4ebff;}#sk-container-id-1 div.sk-parallel-item::after {content: \"\";width: 100%;border-bottom: 1px solid gray;flex-grow: 1;}#sk-container-id-1 div.sk-label:hover label.sk-toggleable__label {background-color: #d4ebff;}#sk-container-id-1 div.sk-serial::before {content: \"\";position: absolute;border-left: 1px solid gray;box-sizing: border-box;top: 0;bottom: 0;left: 50%;z-index: 0;}#sk-container-id-1 div.sk-serial {display: flex;flex-direction: column;align-items: center;background-color: white;padding-right: 0.2em;padding-left: 0.2em;position: relative;}#sk-container-id-1 div.sk-item {position: relative;z-index: 1;}#sk-container-id-1 div.sk-parallel {display: flex;align-items: stretch;justify-content: center;background-color: white;position: relative;}#sk-container-id-1 div.sk-item::before, #sk-container-id-1 div.sk-parallel-item::before {content: \"\";position: absolute;border-left: 1px solid gray;box-sizing: border-box;top: 0;bottom: 0;left: 50%;z-index: -1;}#sk-container-id-1 div.sk-parallel-item {display: flex;flex-direction: column;z-index: 1;position: relative;background-color: white;}#sk-container-id-1 div.sk-parallel-item:first-child::after {align-self: flex-end;width: 50%;}#sk-container-id-1 div.sk-parallel-item:last-child::after {align-self: flex-start;width: 50%;}#sk-container-id-1 div.sk-parallel-item:only-child::after {width: 0;}#sk-container-id-1 div.sk-dashed-wrapped {border: 1px dashed gray;margin: 0 0.4em 0.5em 0.4em;box-sizing: border-box;padding-bottom: 0.4em;background-color: white;}#sk-container-id-1 div.sk-label label {font-family: monospace;font-weight: bold;display: inline-block;line-height: 1.2em;}#sk-container-id-1 div.sk-label-container {text-align: center;}#sk-container-id-1 div.sk-container {/* jupyter's `normalize.less` sets `[hidden] { display: none; }` but bootstrap.min.css set `[hidden] { display: none !important; }` so we also need the `!important` here to be able to override the default hidden behavior on the sphinx rendered scikit-learn.org. See: https://github.com/scikit-learn/scikit-learn/issues/21755 */display: inline-block !important;position: relative;}#sk-container-id-1 div.sk-text-repr-fallback {display: none;}</style><div id=\"sk-container-id-1\" class=\"sk-top-container\"><div class=\"sk-text-repr-fallback\"><pre>RandomizedSearchCV(cv=5,\n",
       "                   estimator=Pipeline(steps=[(&#x27;preprocessor&#x27;,\n",
       "                                              ColumnTransformer(transformers=[(&#x27;num&#x27;,\n",
       "                                                                               Pipeline(steps=[(&#x27;num&#x27;,\n",
       "                                                                                                SimpleImputer(strategy=&#x27;median&#x27;)),\n",
       "                                                                                               (&#x27;scaler&#x27;,\n",
       "                                                                                                StandardScaler())]),\n",
       "                                                                               [&#x27;LotFrontage&#x27;,\n",
       "                                                                                &#x27;LotArea&#x27;,\n",
       "                                                                                &#x27;OverallQual&#x27;,\n",
       "                                                                                &#x27;YearBuilt&#x27;,\n",
       "                                                                                &#x27;MasVnrType&#x27;,\n",
       "                                                                                &#x27;MasVnrArea&#x27;,\n",
       "                                                                                &#x27;ExterQual&#x27;,\n",
       "                                                                                &#x27;BsmtQual&#x27;,\n",
       "                                                                                &#x27;BsmtFinSF1&#x27;,\n",
       "                                                                                &#x27;BsmtFinSF2&#x27;,\n",
       "                                                                                &#x27;BsmtUnfSF&#x27;,\n",
       "                                                                                &#x27;HeatingQC&#x27;,\n",
       "                                                                                &#x27;LowQual...\n",
       "       0.70707071, 0.71717172, 0.72727273, 0.73737374, 0.74747475,\n",
       "       0.75757576, 0.76767677, 0.77777778, 0.78787879, 0.7979798 ,\n",
       "       0.80808081, 0.81818182, 0.82828283, 0.83838384, 0.84848485,\n",
       "       0.85858586, 0.86868687, 0.87878788, 0.88888889, 0.8989899 ,\n",
       "       0.90909091, 0.91919192, 0.92929293, 0.93939394, 0.94949495,\n",
       "       0.95959596, 0.96969697, 0.97979798, 0.98989899, 1.        ])},\n",
       "                   random_state=17, scoring=&#x27;r2&#x27;, verbose=3)</pre><b>In a Jupyter environment, please rerun this cell to show the HTML representation or trust the notebook. <br />On GitHub, the HTML representation is unable to render, please try loading this page with nbviewer.org.</b></div><div class=\"sk-container\" hidden><div class=\"sk-item sk-dashed-wrapped\"><div class=\"sk-label-container\"><div class=\"sk-label sk-toggleable\"><input class=\"sk-toggleable__control sk-hidden--visually\" id=\"sk-estimator-id-1\" type=\"checkbox\" ><label for=\"sk-estimator-id-1\" class=\"sk-toggleable__label sk-toggleable__label-arrow\">RandomizedSearchCV</label><div class=\"sk-toggleable__content\"><pre>RandomizedSearchCV(cv=5,\n",
       "                   estimator=Pipeline(steps=[(&#x27;preprocessor&#x27;,\n",
       "                                              ColumnTransformer(transformers=[(&#x27;num&#x27;,\n",
       "                                                                               Pipeline(steps=[(&#x27;num&#x27;,\n",
       "                                                                                                SimpleImputer(strategy=&#x27;median&#x27;)),\n",
       "                                                                                               (&#x27;scaler&#x27;,\n",
       "                                                                                                StandardScaler())]),\n",
       "                                                                               [&#x27;LotFrontage&#x27;,\n",
       "                                                                                &#x27;LotArea&#x27;,\n",
       "                                                                                &#x27;OverallQual&#x27;,\n",
       "                                                                                &#x27;YearBuilt&#x27;,\n",
       "                                                                                &#x27;MasVnrType&#x27;,\n",
       "                                                                                &#x27;MasVnrArea&#x27;,\n",
       "                                                                                &#x27;ExterQual&#x27;,\n",
       "                                                                                &#x27;BsmtQual&#x27;,\n",
       "                                                                                &#x27;BsmtFinSF1&#x27;,\n",
       "                                                                                &#x27;BsmtFinSF2&#x27;,\n",
       "                                                                                &#x27;BsmtUnfSF&#x27;,\n",
       "                                                                                &#x27;HeatingQC&#x27;,\n",
       "                                                                                &#x27;LowQual...\n",
       "       0.70707071, 0.71717172, 0.72727273, 0.73737374, 0.74747475,\n",
       "       0.75757576, 0.76767677, 0.77777778, 0.78787879, 0.7979798 ,\n",
       "       0.80808081, 0.81818182, 0.82828283, 0.83838384, 0.84848485,\n",
       "       0.85858586, 0.86868687, 0.87878788, 0.88888889, 0.8989899 ,\n",
       "       0.90909091, 0.91919192, 0.92929293, 0.93939394, 0.94949495,\n",
       "       0.95959596, 0.96969697, 0.97979798, 0.98989899, 1.        ])},\n",
       "                   random_state=17, scoring=&#x27;r2&#x27;, verbose=3)</pre></div></div></div><div class=\"sk-parallel\"><div class=\"sk-parallel-item\"><div class=\"sk-item\"><div class=\"sk-label-container\"><div class=\"sk-label sk-toggleable\"><input class=\"sk-toggleable__control sk-hidden--visually\" id=\"sk-estimator-id-2\" type=\"checkbox\" ><label for=\"sk-estimator-id-2\" class=\"sk-toggleable__label sk-toggleable__label-arrow\">estimator: Pipeline</label><div class=\"sk-toggleable__content\"><pre>Pipeline(steps=[(&#x27;preprocessor&#x27;,\n",
       "                 ColumnTransformer(transformers=[(&#x27;num&#x27;,\n",
       "                                                  Pipeline(steps=[(&#x27;num&#x27;,\n",
       "                                                                   SimpleImputer(strategy=&#x27;median&#x27;)),\n",
       "                                                                  (&#x27;scaler&#x27;,\n",
       "                                                                   StandardScaler())]),\n",
       "                                                  [&#x27;LotFrontage&#x27;, &#x27;LotArea&#x27;,\n",
       "                                                   &#x27;OverallQual&#x27;, &#x27;YearBuilt&#x27;,\n",
       "                                                   &#x27;MasVnrType&#x27;, &#x27;MasVnrArea&#x27;,\n",
       "                                                   &#x27;ExterQual&#x27;, &#x27;BsmtQual&#x27;,\n",
       "                                                   &#x27;BsmtFinSF1&#x27;, &#x27;BsmtFinSF2&#x27;,\n",
       "                                                   &#x27;BsmtUnfSF&#x27;, &#x27;HeatingQC&#x27;,\n",
       "                                                   &#x27;LowQualFinSF&#x27;,\n",
       "                                                   &#x27;BsmtFullBath&#x27;,\n",
       "                                                   &#x27;BsmtHalfBat...\n",
       "                                                   &#x27;LandContour&#x27;, &#x27;Utilities&#x27;,\n",
       "                                                   &#x27;LotConfig&#x27;, &#x27;LandSlope&#x27;,\n",
       "                                                   &#x27;Neighborhood&#x27;, &#x27;Condition1&#x27;,\n",
       "                                                   &#x27;Condition2&#x27;, &#x27;BldgType&#x27;,\n",
       "                                                   &#x27;HouseStyle&#x27;, &#x27;RoofStyle&#x27;,\n",
       "                                                   &#x27;RoofMatl&#x27;, &#x27;Exterior1st&#x27;,\n",
       "                                                   &#x27;Exterior2nd&#x27;, &#x27;ExterCond&#x27;,\n",
       "                                                   &#x27;Foundation&#x27;, &#x27;BsmtCond&#x27;,\n",
       "                                                   &#x27;BsmtExposure&#x27;,\n",
       "                                                   &#x27;BsmtFinType1&#x27;,\n",
       "                                                   &#x27;BsmtFinType2&#x27;, &#x27;Heating&#x27;,\n",
       "                                                   &#x27;CentralAir&#x27;, &#x27;Electrical&#x27;,\n",
       "                                                   &#x27;Functional&#x27;, &#x27;GarageType&#x27;,\n",
       "                                                   &#x27;GarageCond&#x27;, &#x27;PavedDrive&#x27;, ...])])),\n",
       "                (&#x27;model&#x27;, ElasticNet())])</pre></div></div></div><div class=\"sk-serial\"><div class=\"sk-item\"><div class=\"sk-serial\"><div class=\"sk-item sk-dashed-wrapped\"><div class=\"sk-label-container\"><div class=\"sk-label sk-toggleable\"><input class=\"sk-toggleable__control sk-hidden--visually\" id=\"sk-estimator-id-3\" type=\"checkbox\" ><label for=\"sk-estimator-id-3\" class=\"sk-toggleable__label sk-toggleable__label-arrow\">preprocessor: ColumnTransformer</label><div class=\"sk-toggleable__content\"><pre>ColumnTransformer(transformers=[(&#x27;num&#x27;,\n",
       "                                 Pipeline(steps=[(&#x27;num&#x27;,\n",
       "                                                  SimpleImputer(strategy=&#x27;median&#x27;)),\n",
       "                                                 (&#x27;scaler&#x27;, StandardScaler())]),\n",
       "                                 [&#x27;LotFrontage&#x27;, &#x27;LotArea&#x27;, &#x27;OverallQual&#x27;,\n",
       "                                  &#x27;YearBuilt&#x27;, &#x27;MasVnrType&#x27;, &#x27;MasVnrArea&#x27;,\n",
       "                                  &#x27;ExterQual&#x27;, &#x27;BsmtQual&#x27;, &#x27;BsmtFinSF1&#x27;,\n",
       "                                  &#x27;BsmtFinSF2&#x27;, &#x27;BsmtUnfSF&#x27;, &#x27;HeatingQC&#x27;,\n",
       "                                  &#x27;LowQualFinSF&#x27;, &#x27;BsmtFullBath&#x27;,\n",
       "                                  &#x27;BsmtHalfBath&#x27;, &#x27;FullBath&#x27;, &#x27;HalfBath&#x27;,\n",
       "                                  &#x27;Bedroo...\n",
       "                                 [&#x27;MSZoning&#x27;, &#x27;Street&#x27;, &#x27;Alley&#x27;, &#x27;LotShape&#x27;,\n",
       "                                  &#x27;LandContour&#x27;, &#x27;Utilities&#x27;, &#x27;LotConfig&#x27;,\n",
       "                                  &#x27;LandSlope&#x27;, &#x27;Neighborhood&#x27;, &#x27;Condition1&#x27;,\n",
       "                                  &#x27;Condition2&#x27;, &#x27;BldgType&#x27;, &#x27;HouseStyle&#x27;,\n",
       "                                  &#x27;RoofStyle&#x27;, &#x27;RoofMatl&#x27;, &#x27;Exterior1st&#x27;,\n",
       "                                  &#x27;Exterior2nd&#x27;, &#x27;ExterCond&#x27;, &#x27;Foundation&#x27;,\n",
       "                                  &#x27;BsmtCond&#x27;, &#x27;BsmtExposure&#x27;, &#x27;BsmtFinType1&#x27;,\n",
       "                                  &#x27;BsmtFinType2&#x27;, &#x27;Heating&#x27;, &#x27;CentralAir&#x27;,\n",
       "                                  &#x27;Electrical&#x27;, &#x27;Functional&#x27;, &#x27;GarageType&#x27;,\n",
       "                                  &#x27;GarageCond&#x27;, &#x27;PavedDrive&#x27;, ...])])</pre></div></div></div><div class=\"sk-parallel\"><div class=\"sk-parallel-item\"><div class=\"sk-item\"><div class=\"sk-label-container\"><div class=\"sk-label sk-toggleable\"><input class=\"sk-toggleable__control sk-hidden--visually\" id=\"sk-estimator-id-4\" type=\"checkbox\" ><label for=\"sk-estimator-id-4\" class=\"sk-toggleable__label sk-toggleable__label-arrow\">num</label><div class=\"sk-toggleable__content\"><pre>[&#x27;LotFrontage&#x27;, &#x27;LotArea&#x27;, &#x27;OverallQual&#x27;, &#x27;YearBuilt&#x27;, &#x27;MasVnrType&#x27;, &#x27;MasVnrArea&#x27;, &#x27;ExterQual&#x27;, &#x27;BsmtQual&#x27;, &#x27;BsmtFinSF1&#x27;, &#x27;BsmtFinSF2&#x27;, &#x27;BsmtUnfSF&#x27;, &#x27;HeatingQC&#x27;, &#x27;LowQualFinSF&#x27;, &#x27;BsmtFullBath&#x27;, &#x27;BsmtHalfBath&#x27;, &#x27;FullBath&#x27;, &#x27;HalfBath&#x27;, &#x27;BedroomAbvGr&#x27;, &#x27;KitchenAbvGr&#x27;, &#x27;KitchenQual&#x27;, &#x27;TotRmsAbvGrd&#x27;, &#x27;Fireplaces&#x27;, &#x27;FireplaceQu&#x27;, &#x27;GarageYrBlt&#x27;, &#x27;GarageFinish&#x27;, &#x27;GarageCars&#x27;, &#x27;GarageArea&#x27;, &#x27;GarageQual&#x27;, &#x27;WoodDeckSF&#x27;, &#x27;OpenPorchSF&#x27;, &#x27;EnclosedPorch&#x27;, &#x27;3SsnPorch&#x27;, &#x27;ScreenPorch&#x27;, &#x27;PoolArea&#x27;, &#x27;MiscVal&#x27;, &#x27;TotalSqrFt&#x27;]</pre></div></div></div><div class=\"sk-serial\"><div class=\"sk-item\"><div class=\"sk-serial\"><div class=\"sk-item\"><div class=\"sk-estimator sk-toggleable\"><input class=\"sk-toggleable__control sk-hidden--visually\" id=\"sk-estimator-id-5\" type=\"checkbox\" ><label for=\"sk-estimator-id-5\" class=\"sk-toggleable__label sk-toggleable__label-arrow\">SimpleImputer</label><div class=\"sk-toggleable__content\"><pre>SimpleImputer(strategy=&#x27;median&#x27;)</pre></div></div></div><div class=\"sk-item\"><div class=\"sk-estimator sk-toggleable\"><input class=\"sk-toggleable__control sk-hidden--visually\" id=\"sk-estimator-id-6\" type=\"checkbox\" ><label for=\"sk-estimator-id-6\" class=\"sk-toggleable__label sk-toggleable__label-arrow\">StandardScaler</label><div class=\"sk-toggleable__content\"><pre>StandardScaler()</pre></div></div></div></div></div></div></div></div><div class=\"sk-parallel-item\"><div class=\"sk-item\"><div class=\"sk-label-container\"><div class=\"sk-label sk-toggleable\"><input class=\"sk-toggleable__control sk-hidden--visually\" id=\"sk-estimator-id-7\" type=\"checkbox\" ><label for=\"sk-estimator-id-7\" class=\"sk-toggleable__label sk-toggleable__label-arrow\">cat</label><div class=\"sk-toggleable__content\"><pre>[&#x27;MSZoning&#x27;, &#x27;Street&#x27;, &#x27;Alley&#x27;, &#x27;LotShape&#x27;, &#x27;LandContour&#x27;, &#x27;Utilities&#x27;, &#x27;LotConfig&#x27;, &#x27;LandSlope&#x27;, &#x27;Neighborhood&#x27;, &#x27;Condition1&#x27;, &#x27;Condition2&#x27;, &#x27;BldgType&#x27;, &#x27;HouseStyle&#x27;, &#x27;RoofStyle&#x27;, &#x27;RoofMatl&#x27;, &#x27;Exterior1st&#x27;, &#x27;Exterior2nd&#x27;, &#x27;ExterCond&#x27;, &#x27;Foundation&#x27;, &#x27;BsmtCond&#x27;, &#x27;BsmtExposure&#x27;, &#x27;BsmtFinType1&#x27;, &#x27;BsmtFinType2&#x27;, &#x27;Heating&#x27;, &#x27;CentralAir&#x27;, &#x27;Electrical&#x27;, &#x27;Functional&#x27;, &#x27;GarageType&#x27;, &#x27;GarageCond&#x27;, &#x27;PavedDrive&#x27;, &#x27;PoolQC&#x27;, &#x27;Fence&#x27;, &#x27;MiscFeature&#x27;, &#x27;SaleType&#x27;, &#x27;SaleCondition&#x27;, &#x27;CatMSSubClass&#x27;, &#x27;CatOverallCond&#x27;, &#x27;CatMoSold&#x27;, &#x27;CatYrSold&#x27;, &#x27;IsGarage&#x27;, &#x27;Is2ndFlr&#x27;, &#x27;WasRemod&#x27;]</pre></div></div></div><div class=\"sk-serial\"><div class=\"sk-item\"><div class=\"sk-serial\"><div class=\"sk-item\"><div class=\"sk-estimator sk-toggleable\"><input class=\"sk-toggleable__control sk-hidden--visually\" id=\"sk-estimator-id-8\" type=\"checkbox\" ><label for=\"sk-estimator-id-8\" class=\"sk-toggleable__label sk-toggleable__label-arrow\">OneHotEncoder</label><div class=\"sk-toggleable__content\"><pre>OneHotEncoder(handle_unknown=&#x27;ignore&#x27;)</pre></div></div></div></div></div></div></div></div></div></div><div class=\"sk-item\"><div class=\"sk-estimator sk-toggleable\"><input class=\"sk-toggleable__control sk-hidden--visually\" id=\"sk-estimator-id-9\" type=\"checkbox\" ><label for=\"sk-estimator-id-9\" class=\"sk-toggleable__label sk-toggleable__label-arrow\">ElasticNet</label><div class=\"sk-toggleable__content\"><pre>ElasticNet()</pre></div></div></div></div></div></div></div></div></div></div></div></div>"
      ],
      "text/plain": [
       "RandomizedSearchCV(cv=5,\n",
       "                   estimator=Pipeline(steps=[('preprocessor',\n",
       "                                              ColumnTransformer(transformers=[('num',\n",
       "                                                                               Pipeline(steps=[('num',\n",
       "                                                                                                SimpleImputer(strategy='median')),\n",
       "                                                                                               ('scaler',\n",
       "                                                                                                StandardScaler())]),\n",
       "                                                                               ['LotFrontage',\n",
       "                                                                                'LotArea',\n",
       "                                                                                'OverallQual',\n",
       "                                                                                'YearBuilt',\n",
       "                                                                                'MasVnrType',\n",
       "                                                                                'MasVnrArea',\n",
       "                                                                                'ExterQual',\n",
       "                                                                                'BsmtQual',\n",
       "                                                                                'BsmtFinSF1',\n",
       "                                                                                'BsmtFinSF2',\n",
       "                                                                                'BsmtUnfSF',\n",
       "                                                                                'HeatingQC',\n",
       "                                                                                'LowQual...\n",
       "       0.70707071, 0.71717172, 0.72727273, 0.73737374, 0.74747475,\n",
       "       0.75757576, 0.76767677, 0.77777778, 0.78787879, 0.7979798 ,\n",
       "       0.80808081, 0.81818182, 0.82828283, 0.83838384, 0.84848485,\n",
       "       0.85858586, 0.86868687, 0.87878788, 0.88888889, 0.8989899 ,\n",
       "       0.90909091, 0.91919192, 0.92929293, 0.93939394, 0.94949495,\n",
       "       0.95959596, 0.96969697, 0.97979798, 0.98989899, 1.        ])},\n",
       "                   random_state=17, scoring='r2', verbose=3)"
      ]
     },
     "execution_count": 19,
     "metadata": {},
     "output_type": "execute_result"
    }
   ],
   "source": [
    "from sklearn.linear_model import ElasticNet\n",
    "from sklearn.model_selection import RandomizedSearchCV\n",
    "\n",
    "param_grid = {\n",
    "    'model__alpha': np.linspace(0, 1000, 1000),\n",
    "    'model__l1_ratio': np.linspace(0, 1, 100)\n",
    "}\n",
    "\n",
    "lm = getPipeline(ElasticNet(), num_cols, cat_cols)\n",
    "\n",
    "rsCV = RandomizedSearchCV(lm, param_distributions=param_grid, cv=CV_NO_FOLDS, n_iter=250, n_jobs=-1, verbose=3, scoring='r2', random_state=RANDOM_STATE)\n",
    "rsCV.fit(X_train_prep, y_train)\n"
   ]
  },
  {
   "cell_type": "code",
   "execution_count": null,
   "metadata": {},
   "outputs": [
    {
     "name": "stdout",
     "output_type": "stream",
     "text": [
      "CV score on train: 0.860508471874778\n",
      "CV best params: 0.8070493300615867\n"
     ]
    }
   ],
   "source": [
    "from sklearn.metrics import r2_score\n",
    "\n",
    "preds_rsCV_lm = rsCV.predict(X_test_prep)\n",
    "r2_rsCV_lm = r2_score(y_test, preds_rsCV_lm)\n",
    "\n",
    "print(f\"score on test: {r2_rsCV_lm}\")\n",
    "print(f\"CV best score: {rsCV.best_score_}\")\n",
    "print(f\"CV best params: {rsCV.best_params_}\")"
   ]
  },
  {
   "cell_type": "code",
   "execution_count": 31,
   "metadata": {},
   "outputs": [],
   "source": [
    "from sklearn.linear_model import ElasticNet\n",
    "from sklearn.ensemble import GradientBoostingRegressor\n",
    "from sklearn.neighbors import KNeighborsRegressor\n",
    "from sklearn.ensemble import RandomForestRegressor\n",
    "\n",
    "models = {\n",
    "    'ElasticNet': ElasticNet(),\n",
    "    'GradientBoostingRegressor': GradientBoostingRegressor(random_state=RANDOM_STATE),\n",
    "    'KNeighborsRegressor': KNeighborsRegressor(),\n",
    "    'RandomForestRegressor': RandomForestRegressor(random_state=RANDOM_STATE)\n",
    "}\n",
    "\n",
    "param_grid = {\n",
    "    'ElasticNet': {\n",
    "        'model__alpha': np.linspace(0, 1000, 1000),\n",
    "        'model__l1_ratio': np.linspace(0, 1, 100)\n",
    "    },\n",
    "    'RandomForestRegressor': {\n",
    "        'model__n_estimators': [100, 200, 300, 400, 500, 700],\n",
    "        'model__max_depth': [None, 5, 10, 15, 20, 25, 30, 40, 60],\n",
    "        'model__min_samples_split': [2, 5, 7, 10],\n",
    "        'model__min_samples_leaf': [1, 2, 3, 4],\n",
    "    },\n",
    "    'KNeighborsRegressor': {\n",
    "        'model__n_neighbors': [i for i in range(4, 51)],\n",
    "        'model__weights': ['uniform', 'distance'],\n",
    "        'model__p': [1,2]  \n",
    "    },\n",
    "    'GradientBoostingRegressor': {\n",
    "        'model__n_estimators': [100, 200, 300, 400, 500, 700],\n",
    "        'model__learning_rate': [0.01, 0.05, 0.1, 0.15, 0.2, 0.25, 0.3],\n",
    "        'model__max_depth': [3,4, 5, 6, 8, 10],\n",
    "        'model__subsample': [0.5, 0.75, 1]\n",
    "    }\n",
    "}"
   ]
  },
  {
   "cell_type": "markdown",
   "metadata": {},
   "source": [
    "#### Below I use BayesSearchCV and RandomsedSearchCV to check whether Bayes will overcome Random. \n",
    "#### When it comes to bayes: the advantange is that Bayes use information from previous searches to get to know where to look for optimal parameters. It creates a probability space in which hyperparameters with better score are more probable. The disadvantages are longer learning time compared to RandomizedSearchCV and it can get stuck around some hyperparameters which are considered to be \"good\" and totally omit area with better hyperparameters because, as the algorithm focuses on \"good\" area, there may be no opportunity to check better area.\n",
    "#### But on average (according to some articles on the internet) Bayesian searching is better."
   ]
  },
  {
   "cell_type": "code",
   "execution_count": 40,
   "metadata": {},
   "outputs": [
    {
     "name": "stderr",
     "output_type": "stream",
     "text": [
      "C:\\Users\\macie\\AppData\\Roaming\\Python\\Python38\\site-packages\\sklearn\\ensemble\\_gb.py:437: DataConversionWarning: A column-vector y was passed when a 1d array was expected. Please change the shape of y to (n_samples, ), for example using ravel().\n",
      "  y = column_or_1d(y, warn=True)\n",
      "c:\\Python38\\lib\\site-packages\\skopt\\optimizer\\optimizer.py:449: UserWarning: The objective has been evaluated at this point before.\n",
      "  warnings.warn(\"The objective has been evaluated \"\n",
      "c:\\Python38\\lib\\site-packages\\skopt\\optimizer\\optimizer.py:449: UserWarning: The objective has been evaluated at this point before.\n",
      "  warnings.warn(\"The objective has been evaluated \"\n",
      "c:\\Python38\\lib\\site-packages\\skopt\\optimizer\\optimizer.py:449: UserWarning: The objective has been evaluated at this point before.\n",
      "  warnings.warn(\"The objective has been evaluated \"\n",
      "c:\\Python38\\lib\\site-packages\\skopt\\optimizer\\optimizer.py:449: UserWarning: The objective has been evaluated at this point before.\n",
      "  warnings.warn(\"The objective has been evaluated \"\n",
      "c:\\Python38\\lib\\site-packages\\skopt\\optimizer\\optimizer.py:449: UserWarning: The objective has been evaluated at this point before.\n",
      "  warnings.warn(\"The objective has been evaluated \"\n",
      "c:\\Python38\\lib\\site-packages\\skopt\\optimizer\\optimizer.py:449: UserWarning: The objective has been evaluated at this point before.\n",
      "  warnings.warn(\"The objective has been evaluated \"\n",
      "c:\\Python38\\lib\\site-packages\\skopt\\optimizer\\optimizer.py:449: UserWarning: The objective has been evaluated at this point before.\n",
      "  warnings.warn(\"The objective has been evaluated \"\n",
      "c:\\Python38\\lib\\site-packages\\skopt\\optimizer\\optimizer.py:449: UserWarning: The objective has been evaluated at this point before.\n",
      "  warnings.warn(\"The objective has been evaluated \"\n",
      "c:\\Python38\\lib\\site-packages\\skopt\\optimizer\\optimizer.py:449: UserWarning: The objective has been evaluated at this point before.\n",
      "  warnings.warn(\"The objective has been evaluated \"\n",
      "c:\\Python38\\lib\\site-packages\\skopt\\optimizer\\optimizer.py:449: UserWarning: The objective has been evaluated at this point before.\n",
      "  warnings.warn(\"The objective has been evaluated \"\n",
      "c:\\Python38\\lib\\site-packages\\skopt\\optimizer\\optimizer.py:449: UserWarning: The objective has been evaluated at this point before.\n",
      "  warnings.warn(\"The objective has been evaluated \"\n",
      "C:\\Users\\macie\\AppData\\Roaming\\Python\\Python38\\site-packages\\sklearn\\pipeline.py:405: DataConversionWarning: A column-vector y was passed when a 1d array was expected. Please change the shape of y to (n_samples,), for example using ravel().\n",
      "  self._final_estimator.fit(Xt, y, **fit_params_last_step)\n"
     ]
    }
   ],
   "source": [
    "from skopt import BayesSearchCV\n",
    "import time\n",
    "\n",
    "grid_bayes = {}\n",
    "grid_bayes_times = {}\n",
    "for model_name, model in models.items():\n",
    "    start_time = time.time()\n",
    "\n",
    "    grid_bayes[model_name] = BayesSearchCV(getPipeline(model, num_cols, cat_cols), search_spaces=param_grid[model_name], cv=CV_NO_FOLDS, scoring='r2', n_jobs=-1, random_state=RANDOM_STATE, n_iter=40)\n",
    "    grid_bayes[model_name].fit(X_train_prep, y_train)\n",
    "\n",
    "    best_params = grid_bayes[model_name].best_params_\n",
    "    best_score = grid_bayes[model_name].best_score_\n",
    "\n",
    "    fit_time = round(time.time() - start_time, 3)\n",
    "    grid_bayes_times[model_name] = fit_time"
   ]
  },
  {
   "cell_type": "code",
   "execution_count": 41,
   "metadata": {},
   "outputs": [
    {
     "name": "stderr",
     "output_type": "stream",
     "text": [
      "C:\\Users\\macie\\AppData\\Roaming\\Python\\Python38\\site-packages\\sklearn\\ensemble\\_gb.py:437: DataConversionWarning: A column-vector y was passed when a 1d array was expected. Please change the shape of y to (n_samples, ), for example using ravel().\n",
      "  y = column_or_1d(y, warn=True)\n",
      "C:\\Users\\macie\\AppData\\Roaming\\Python\\Python38\\site-packages\\sklearn\\pipeline.py:405: DataConversionWarning: A column-vector y was passed when a 1d array was expected. Please change the shape of y to (n_samples,), for example using ravel().\n",
      "  self._final_estimator.fit(Xt, y, **fit_params_last_step)\n"
     ]
    }
   ],
   "source": [
    "from sklearn.model_selection import RandomizedSearchCV\n",
    "\n",
    "grid_random = {}\n",
    "grid_random_times = {}\n",
    "for model_name, model in models.items():\n",
    "    start_time = time.time()\n",
    "\n",
    "    grid_random[model_name] = RandomizedSearchCV(getPipeline(model, num_cols, cat_cols), param_distributions=param_grid[model_name], cv=CV_NO_FOLDS, scoring='r2', n_jobs=-1, n_iter=40, random_state=RANDOM_STATE)\n",
    "    grid_random[model_name].fit(X_train_prep, y_train)\n",
    "\n",
    "    best_params = grid_random[model_name].best_params_\n",
    "    best_score = grid_random[model_name].best_score_\n",
    "\n",
    "    fit_time = round(time.time() - start_time, 3)\n",
    "    grid_random_times[model_name] = fit_time"
   ]
  },
  {
   "cell_type": "markdown",
   "metadata": {},
   "source": [
    "### When it comes to ElasticNet:  RandomGridSearch did better CV than BayesSearch. If I would quess why: the optimal parameter 'l1_ration' is on the edge of considered values (l1_ratio close to 1 is optimal value in my opinion) and Bayes search did not guess it and jumped around this value but not close enough to reach it."
   ]
  },
  {
   "cell_type": "code",
   "execution_count": 42,
   "metadata": {},
   "outputs": [
    {
     "name": "stdout",
     "output_type": "stream",
     "text": [
      "Learning Comparison\n",
      "**********\n",
      "\n",
      "ElasticNet\n",
      "Learning time for Bayes: 57.57\n",
      "Learning time for Random: 16.861\n",
      "----------\n",
      "Best score for Bayes: 0.7918660708966769\n",
      "Best score for Random: 0.8070493300615867\n",
      "----------\n",
      "Best params for Bayes: OrderedDict([('model__alpha', 53.053053053053056), ('model__l1_ratio', 0.98989898989899)])\n",
      "Best params for Random: {'model__l1_ratio': 1.0, 'model__alpha': 465.4654654654655}\n",
      "GradientBoostingRegressor\n",
      "Learning time for Bayes: 744.138\n",
      "Learning time for Random: 454.937\n",
      "----------\n",
      "Best score for Bayes: 0.8713929574583649\n",
      "Best score for Random: 0.8662121500518773\n",
      "----------\n",
      "Best params for Bayes: OrderedDict([('model__learning_rate', 0.1), ('model__max_depth', 3), ('model__n_estimators', 700), ('model__subsample', 1.0)])\n",
      "Best params for Random: {'model__subsample': 0.75, 'model__n_estimators': 500, 'model__max_depth': 4, 'model__learning_rate': 0.1}\n",
      "KNeighborsRegressor\n",
      "Learning time for Bayes: 56.23\n",
      "Learning time for Random: 17.243\n",
      "----------\n",
      "Best score for Bayes: 0.7704320420775022\n",
      "Best score for Random: 0.7683552540900713\n",
      "----------\n",
      "Best params for Bayes: OrderedDict([('model__n_neighbors', 4), ('model__p', 1), ('model__weights', 'distance')])\n",
      "Best params for Random: {'model__weights': 'distance', 'model__p': 1, 'model__n_neighbors': 6}\n",
      "RandomForestRegressor\n",
      "Learning time for Bayes: 1650.291\n",
      "Learning time for Random: 1039.863\n",
      "----------\n",
      "Best score for Bayes: 0.8382043107836903\n",
      "Best score for Random: 0.8382043107836903\n",
      "----------\n",
      "Best params for Bayes: OrderedDict([('model__max_depth', 40), ('model__min_samples_leaf', 3), ('model__min_samples_split', 2), ('model__n_estimators', 500)])\n",
      "Best params for Random: {'model__n_estimators': 500, 'model__min_samples_split': 2, 'model__min_samples_leaf': 3, 'model__max_depth': None}\n"
     ]
    }
   ],
   "source": [
    "print(\"Learning Comparison\")\n",
    "print(f'{10*\"*\"}\\n')\n",
    "\n",
    "for model_name, model in models.items():\n",
    "    print(model_name)\n",
    "    print(f\"Learning time for Bayes: {grid_bayes_times[model_name]}\")\n",
    "    print(f\"Learning time for Random: {grid_random_times[model_name]}\")\n",
    "    print(10*'-')\n",
    "    print(f\"Best score for Bayes: {grid_bayes[model_name].best_score_}\")\n",
    "    print(f\"Best score for Random: {grid_random[model_name].best_score_}\")\n",
    "    print(10*'-')\n",
    "    print(f\"Best params for Bayes: {grid_bayes[model_name].best_params_}\")\n",
    "    print(f\"Best params for Random: {grid_random[model_name].best_params_}\")\n"
   ]
  },
  {
   "cell_type": "markdown",
   "metadata": {},
   "source": [
    "### As we can see:\n",
    "- Bayes has a little better score on GradintBoosting, KNearest and Forest\n",
    "- Bayes is worse on ElasticNet\n",
    "- Bayes is much time consuming"
   ]
  },
  {
   "cell_type": "markdown",
   "metadata": {},
   "source": [
    "### Save model for the future"
   ]
  },
  {
   "cell_type": "code",
   "execution_count": 47,
   "metadata": {},
   "outputs": [],
   "source": [
    "from joblib import dump\n",
    "for key in models.keys():\n",
    "    dump(grid_bayes[key].best_estimator_, f'./models/bayes_{key}.joblib') \n",
    "    dump(grid_random[key].best_estimator_, f'./models/rand_{key}.joblib') "
   ]
  },
  {
   "cell_type": "markdown",
   "metadata": {},
   "source": [
    "### Later on I will build base models without any hyperparams to compare them with tuned models"
   ]
  },
  {
   "cell_type": "markdown",
   "metadata": {},
   "source": [
    "### One more thing to LinearModel: if optimum is near 'l1_ration'=1, can Bayes find as least as good params as Random Search given area of 'l1_ratio' close to 1?"
   ]
  },
  {
   "cell_type": "code",
   "execution_count": 53,
   "metadata": {},
   "outputs": [
    {
     "data": {
      "text/html": [
       "<style>#sk-container-id-2 {color: black;background-color: white;}#sk-container-id-2 pre{padding: 0;}#sk-container-id-2 div.sk-toggleable {background-color: white;}#sk-container-id-2 label.sk-toggleable__label {cursor: pointer;display: block;width: 100%;margin-bottom: 0;padding: 0.3em;box-sizing: border-box;text-align: center;}#sk-container-id-2 label.sk-toggleable__label-arrow:before {content: \"▸\";float: left;margin-right: 0.25em;color: #696969;}#sk-container-id-2 label.sk-toggleable__label-arrow:hover:before {color: black;}#sk-container-id-2 div.sk-estimator:hover label.sk-toggleable__label-arrow:before {color: black;}#sk-container-id-2 div.sk-toggleable__content {max-height: 0;max-width: 0;overflow: hidden;text-align: left;background-color: #f0f8ff;}#sk-container-id-2 div.sk-toggleable__content pre {margin: 0.2em;color: black;border-radius: 0.25em;background-color: #f0f8ff;}#sk-container-id-2 input.sk-toggleable__control:checked~div.sk-toggleable__content {max-height: 200px;max-width: 100%;overflow: auto;}#sk-container-id-2 input.sk-toggleable__control:checked~label.sk-toggleable__label-arrow:before {content: \"▾\";}#sk-container-id-2 div.sk-estimator input.sk-toggleable__control:checked~label.sk-toggleable__label {background-color: #d4ebff;}#sk-container-id-2 div.sk-label input.sk-toggleable__control:checked~label.sk-toggleable__label {background-color: #d4ebff;}#sk-container-id-2 input.sk-hidden--visually {border: 0;clip: rect(1px 1px 1px 1px);clip: rect(1px, 1px, 1px, 1px);height: 1px;margin: -1px;overflow: hidden;padding: 0;position: absolute;width: 1px;}#sk-container-id-2 div.sk-estimator {font-family: monospace;background-color: #f0f8ff;border: 1px dotted black;border-radius: 0.25em;box-sizing: border-box;margin-bottom: 0.5em;}#sk-container-id-2 div.sk-estimator:hover {background-color: #d4ebff;}#sk-container-id-2 div.sk-parallel-item::after {content: \"\";width: 100%;border-bottom: 1px solid gray;flex-grow: 1;}#sk-container-id-2 div.sk-label:hover label.sk-toggleable__label {background-color: #d4ebff;}#sk-container-id-2 div.sk-serial::before {content: \"\";position: absolute;border-left: 1px solid gray;box-sizing: border-box;top: 0;bottom: 0;left: 50%;z-index: 0;}#sk-container-id-2 div.sk-serial {display: flex;flex-direction: column;align-items: center;background-color: white;padding-right: 0.2em;padding-left: 0.2em;position: relative;}#sk-container-id-2 div.sk-item {position: relative;z-index: 1;}#sk-container-id-2 div.sk-parallel {display: flex;align-items: stretch;justify-content: center;background-color: white;position: relative;}#sk-container-id-2 div.sk-item::before, #sk-container-id-2 div.sk-parallel-item::before {content: \"\";position: absolute;border-left: 1px solid gray;box-sizing: border-box;top: 0;bottom: 0;left: 50%;z-index: -1;}#sk-container-id-2 div.sk-parallel-item {display: flex;flex-direction: column;z-index: 1;position: relative;background-color: white;}#sk-container-id-2 div.sk-parallel-item:first-child::after {align-self: flex-end;width: 50%;}#sk-container-id-2 div.sk-parallel-item:last-child::after {align-self: flex-start;width: 50%;}#sk-container-id-2 div.sk-parallel-item:only-child::after {width: 0;}#sk-container-id-2 div.sk-dashed-wrapped {border: 1px dashed gray;margin: 0 0.4em 0.5em 0.4em;box-sizing: border-box;padding-bottom: 0.4em;background-color: white;}#sk-container-id-2 div.sk-label label {font-family: monospace;font-weight: bold;display: inline-block;line-height: 1.2em;}#sk-container-id-2 div.sk-label-container {text-align: center;}#sk-container-id-2 div.sk-container {/* jupyter's `normalize.less` sets `[hidden] { display: none; }` but bootstrap.min.css set `[hidden] { display: none !important; }` so we also need the `!important` here to be able to override the default hidden behavior on the sphinx rendered scikit-learn.org. See: https://github.com/scikit-learn/scikit-learn/issues/21755 */display: inline-block !important;position: relative;}#sk-container-id-2 div.sk-text-repr-fallback {display: none;}</style><div id=\"sk-container-id-2\" class=\"sk-top-container\"><div class=\"sk-text-repr-fallback\"><pre>BayesSearchCV(cv=5,\n",
       "              estimator=Pipeline(steps=[(&#x27;preprocessor&#x27;,\n",
       "                                         ColumnTransformer(transformers=[(&#x27;num&#x27;,\n",
       "                                                                          Pipeline(steps=[(&#x27;num&#x27;,\n",
       "                                                                                           SimpleImputer(strategy=&#x27;median&#x27;)),\n",
       "                                                                                          (&#x27;scaler&#x27;,\n",
       "                                                                                           StandardScaler())]),\n",
       "                                                                          [&#x27;LotFrontage&#x27;,\n",
       "                                                                           &#x27;LotArea&#x27;,\n",
       "                                                                           &#x27;OverallQual&#x27;,\n",
       "                                                                           &#x27;YearBuilt&#x27;,\n",
       "                                                                           &#x27;MasVnrType&#x27;,\n",
       "                                                                           &#x27;MasVnrArea&#x27;,\n",
       "                                                                           &#x27;ExterQual&#x27;,\n",
       "                                                                           &#x27;BsmtQual&#x27;,\n",
       "                                                                           &#x27;BsmtFinSF1&#x27;,\n",
       "                                                                           &#x27;BsmtFinSF2&#x27;,\n",
       "                                                                           &#x27;BsmtUnfSF&#x27;,\n",
       "                                                                           &#x27;HeatingQC&#x27;,\n",
       "                                                                           &#x27;LowQualFinSF...\n",
       "       0.99313131, 0.99333333, 0.99353535, 0.99373737, 0.99393939,\n",
       "       0.99414141, 0.99434343, 0.99454545, 0.99474747, 0.99494949,\n",
       "       0.99515152, 0.99535354, 0.99555556, 0.99575758, 0.9959596 ,\n",
       "       0.99616162, 0.99636364, 0.99656566, 0.99676768, 0.9969697 ,\n",
       "       0.99717172, 0.99737374, 0.99757576, 0.99777778, 0.9979798 ,\n",
       "       0.99818182, 0.99838384, 0.99858586, 0.99878788, 0.9989899 ,\n",
       "       0.99919192, 0.99939394, 0.99959596, 0.99979798, 1.        ])})</pre><b>In a Jupyter environment, please rerun this cell to show the HTML representation or trust the notebook. <br />On GitHub, the HTML representation is unable to render, please try loading this page with nbviewer.org.</b></div><div class=\"sk-container\" hidden><div class=\"sk-item sk-dashed-wrapped\"><div class=\"sk-label-container\"><div class=\"sk-label sk-toggleable\"><input class=\"sk-toggleable__control sk-hidden--visually\" id=\"sk-estimator-id-10\" type=\"checkbox\" ><label for=\"sk-estimator-id-10\" class=\"sk-toggleable__label sk-toggleable__label-arrow\">BayesSearchCV</label><div class=\"sk-toggleable__content\"><pre>BayesSearchCV(cv=5,\n",
       "              estimator=Pipeline(steps=[(&#x27;preprocessor&#x27;,\n",
       "                                         ColumnTransformer(transformers=[(&#x27;num&#x27;,\n",
       "                                                                          Pipeline(steps=[(&#x27;num&#x27;,\n",
       "                                                                                           SimpleImputer(strategy=&#x27;median&#x27;)),\n",
       "                                                                                          (&#x27;scaler&#x27;,\n",
       "                                                                                           StandardScaler())]),\n",
       "                                                                          [&#x27;LotFrontage&#x27;,\n",
       "                                                                           &#x27;LotArea&#x27;,\n",
       "                                                                           &#x27;OverallQual&#x27;,\n",
       "                                                                           &#x27;YearBuilt&#x27;,\n",
       "                                                                           &#x27;MasVnrType&#x27;,\n",
       "                                                                           &#x27;MasVnrArea&#x27;,\n",
       "                                                                           &#x27;ExterQual&#x27;,\n",
       "                                                                           &#x27;BsmtQual&#x27;,\n",
       "                                                                           &#x27;BsmtFinSF1&#x27;,\n",
       "                                                                           &#x27;BsmtFinSF2&#x27;,\n",
       "                                                                           &#x27;BsmtUnfSF&#x27;,\n",
       "                                                                           &#x27;HeatingQC&#x27;,\n",
       "                                                                           &#x27;LowQualFinSF...\n",
       "       0.99313131, 0.99333333, 0.99353535, 0.99373737, 0.99393939,\n",
       "       0.99414141, 0.99434343, 0.99454545, 0.99474747, 0.99494949,\n",
       "       0.99515152, 0.99535354, 0.99555556, 0.99575758, 0.9959596 ,\n",
       "       0.99616162, 0.99636364, 0.99656566, 0.99676768, 0.9969697 ,\n",
       "       0.99717172, 0.99737374, 0.99757576, 0.99777778, 0.9979798 ,\n",
       "       0.99818182, 0.99838384, 0.99858586, 0.99878788, 0.9989899 ,\n",
       "       0.99919192, 0.99939394, 0.99959596, 0.99979798, 1.        ])})</pre></div></div></div><div class=\"sk-parallel\"><div class=\"sk-parallel-item\"><div class=\"sk-item\"><div class=\"sk-label-container\"><div class=\"sk-label sk-toggleable\"><input class=\"sk-toggleable__control sk-hidden--visually\" id=\"sk-estimator-id-11\" type=\"checkbox\" ><label for=\"sk-estimator-id-11\" class=\"sk-toggleable__label sk-toggleable__label-arrow\">estimator: Pipeline</label><div class=\"sk-toggleable__content\"><pre>Pipeline(steps=[(&#x27;preprocessor&#x27;,\n",
       "                 ColumnTransformer(transformers=[(&#x27;num&#x27;,\n",
       "                                                  Pipeline(steps=[(&#x27;num&#x27;,\n",
       "                                                                   SimpleImputer(strategy=&#x27;median&#x27;)),\n",
       "                                                                  (&#x27;scaler&#x27;,\n",
       "                                                                   StandardScaler())]),\n",
       "                                                  [&#x27;LotFrontage&#x27;, &#x27;LotArea&#x27;,\n",
       "                                                   &#x27;OverallQual&#x27;, &#x27;YearBuilt&#x27;,\n",
       "                                                   &#x27;MasVnrType&#x27;, &#x27;MasVnrArea&#x27;,\n",
       "                                                   &#x27;ExterQual&#x27;, &#x27;BsmtQual&#x27;,\n",
       "                                                   &#x27;BsmtFinSF1&#x27;, &#x27;BsmtFinSF2&#x27;,\n",
       "                                                   &#x27;BsmtUnfSF&#x27;, &#x27;HeatingQC&#x27;,\n",
       "                                                   &#x27;LowQualFinSF&#x27;,\n",
       "                                                   &#x27;BsmtFullBath&#x27;,\n",
       "                                                   &#x27;BsmtHalfBat...\n",
       "                                                   &#x27;LandContour&#x27;, &#x27;Utilities&#x27;,\n",
       "                                                   &#x27;LotConfig&#x27;, &#x27;LandSlope&#x27;,\n",
       "                                                   &#x27;Neighborhood&#x27;, &#x27;Condition1&#x27;,\n",
       "                                                   &#x27;Condition2&#x27;, &#x27;BldgType&#x27;,\n",
       "                                                   &#x27;HouseStyle&#x27;, &#x27;RoofStyle&#x27;,\n",
       "                                                   &#x27;RoofMatl&#x27;, &#x27;Exterior1st&#x27;,\n",
       "                                                   &#x27;Exterior2nd&#x27;, &#x27;ExterCond&#x27;,\n",
       "                                                   &#x27;Foundation&#x27;, &#x27;BsmtCond&#x27;,\n",
       "                                                   &#x27;BsmtExposure&#x27;,\n",
       "                                                   &#x27;BsmtFinType1&#x27;,\n",
       "                                                   &#x27;BsmtFinType2&#x27;, &#x27;Heating&#x27;,\n",
       "                                                   &#x27;CentralAir&#x27;, &#x27;Electrical&#x27;,\n",
       "                                                   &#x27;Functional&#x27;, &#x27;GarageType&#x27;,\n",
       "                                                   &#x27;GarageCond&#x27;, &#x27;PavedDrive&#x27;, ...])])),\n",
       "                (&#x27;model&#x27;, ElasticNet())])</pre></div></div></div><div class=\"sk-serial\"><div class=\"sk-item\"><div class=\"sk-serial\"><div class=\"sk-item sk-dashed-wrapped\"><div class=\"sk-label-container\"><div class=\"sk-label sk-toggleable\"><input class=\"sk-toggleable__control sk-hidden--visually\" id=\"sk-estimator-id-12\" type=\"checkbox\" ><label for=\"sk-estimator-id-12\" class=\"sk-toggleable__label sk-toggleable__label-arrow\">preprocessor: ColumnTransformer</label><div class=\"sk-toggleable__content\"><pre>ColumnTransformer(transformers=[(&#x27;num&#x27;,\n",
       "                                 Pipeline(steps=[(&#x27;num&#x27;,\n",
       "                                                  SimpleImputer(strategy=&#x27;median&#x27;)),\n",
       "                                                 (&#x27;scaler&#x27;, StandardScaler())]),\n",
       "                                 [&#x27;LotFrontage&#x27;, &#x27;LotArea&#x27;, &#x27;OverallQual&#x27;,\n",
       "                                  &#x27;YearBuilt&#x27;, &#x27;MasVnrType&#x27;, &#x27;MasVnrArea&#x27;,\n",
       "                                  &#x27;ExterQual&#x27;, &#x27;BsmtQual&#x27;, &#x27;BsmtFinSF1&#x27;,\n",
       "                                  &#x27;BsmtFinSF2&#x27;, &#x27;BsmtUnfSF&#x27;, &#x27;HeatingQC&#x27;,\n",
       "                                  &#x27;LowQualFinSF&#x27;, &#x27;BsmtFullBath&#x27;,\n",
       "                                  &#x27;BsmtHalfBath&#x27;, &#x27;FullBath&#x27;, &#x27;HalfBath&#x27;,\n",
       "                                  &#x27;Bedroo...\n",
       "                                 [&#x27;MSZoning&#x27;, &#x27;Street&#x27;, &#x27;Alley&#x27;, &#x27;LotShape&#x27;,\n",
       "                                  &#x27;LandContour&#x27;, &#x27;Utilities&#x27;, &#x27;LotConfig&#x27;,\n",
       "                                  &#x27;LandSlope&#x27;, &#x27;Neighborhood&#x27;, &#x27;Condition1&#x27;,\n",
       "                                  &#x27;Condition2&#x27;, &#x27;BldgType&#x27;, &#x27;HouseStyle&#x27;,\n",
       "                                  &#x27;RoofStyle&#x27;, &#x27;RoofMatl&#x27;, &#x27;Exterior1st&#x27;,\n",
       "                                  &#x27;Exterior2nd&#x27;, &#x27;ExterCond&#x27;, &#x27;Foundation&#x27;,\n",
       "                                  &#x27;BsmtCond&#x27;, &#x27;BsmtExposure&#x27;, &#x27;BsmtFinType1&#x27;,\n",
       "                                  &#x27;BsmtFinType2&#x27;, &#x27;Heating&#x27;, &#x27;CentralAir&#x27;,\n",
       "                                  &#x27;Electrical&#x27;, &#x27;Functional&#x27;, &#x27;GarageType&#x27;,\n",
       "                                  &#x27;GarageCond&#x27;, &#x27;PavedDrive&#x27;, ...])])</pre></div></div></div><div class=\"sk-parallel\"><div class=\"sk-parallel-item\"><div class=\"sk-item\"><div class=\"sk-label-container\"><div class=\"sk-label sk-toggleable\"><input class=\"sk-toggleable__control sk-hidden--visually\" id=\"sk-estimator-id-13\" type=\"checkbox\" ><label for=\"sk-estimator-id-13\" class=\"sk-toggleable__label sk-toggleable__label-arrow\">num</label><div class=\"sk-toggleable__content\"><pre>[&#x27;LotFrontage&#x27;, &#x27;LotArea&#x27;, &#x27;OverallQual&#x27;, &#x27;YearBuilt&#x27;, &#x27;MasVnrType&#x27;, &#x27;MasVnrArea&#x27;, &#x27;ExterQual&#x27;, &#x27;BsmtQual&#x27;, &#x27;BsmtFinSF1&#x27;, &#x27;BsmtFinSF2&#x27;, &#x27;BsmtUnfSF&#x27;, &#x27;HeatingQC&#x27;, &#x27;LowQualFinSF&#x27;, &#x27;BsmtFullBath&#x27;, &#x27;BsmtHalfBath&#x27;, &#x27;FullBath&#x27;, &#x27;HalfBath&#x27;, &#x27;BedroomAbvGr&#x27;, &#x27;KitchenAbvGr&#x27;, &#x27;KitchenQual&#x27;, &#x27;TotRmsAbvGrd&#x27;, &#x27;Fireplaces&#x27;, &#x27;FireplaceQu&#x27;, &#x27;GarageYrBlt&#x27;, &#x27;GarageFinish&#x27;, &#x27;GarageCars&#x27;, &#x27;GarageArea&#x27;, &#x27;GarageQual&#x27;, &#x27;WoodDeckSF&#x27;, &#x27;OpenPorchSF&#x27;, &#x27;EnclosedPorch&#x27;, &#x27;3SsnPorch&#x27;, &#x27;ScreenPorch&#x27;, &#x27;PoolArea&#x27;, &#x27;MiscVal&#x27;, &#x27;TotalSqrFt&#x27;]</pre></div></div></div><div class=\"sk-serial\"><div class=\"sk-item\"><div class=\"sk-serial\"><div class=\"sk-item\"><div class=\"sk-estimator sk-toggleable\"><input class=\"sk-toggleable__control sk-hidden--visually\" id=\"sk-estimator-id-14\" type=\"checkbox\" ><label for=\"sk-estimator-id-14\" class=\"sk-toggleable__label sk-toggleable__label-arrow\">SimpleImputer</label><div class=\"sk-toggleable__content\"><pre>SimpleImputer(strategy=&#x27;median&#x27;)</pre></div></div></div><div class=\"sk-item\"><div class=\"sk-estimator sk-toggleable\"><input class=\"sk-toggleable__control sk-hidden--visually\" id=\"sk-estimator-id-15\" type=\"checkbox\" ><label for=\"sk-estimator-id-15\" class=\"sk-toggleable__label sk-toggleable__label-arrow\">StandardScaler</label><div class=\"sk-toggleable__content\"><pre>StandardScaler()</pre></div></div></div></div></div></div></div></div><div class=\"sk-parallel-item\"><div class=\"sk-item\"><div class=\"sk-label-container\"><div class=\"sk-label sk-toggleable\"><input class=\"sk-toggleable__control sk-hidden--visually\" id=\"sk-estimator-id-16\" type=\"checkbox\" ><label for=\"sk-estimator-id-16\" class=\"sk-toggleable__label sk-toggleable__label-arrow\">cat</label><div class=\"sk-toggleable__content\"><pre>[&#x27;MSZoning&#x27;, &#x27;Street&#x27;, &#x27;Alley&#x27;, &#x27;LotShape&#x27;, &#x27;LandContour&#x27;, &#x27;Utilities&#x27;, &#x27;LotConfig&#x27;, &#x27;LandSlope&#x27;, &#x27;Neighborhood&#x27;, &#x27;Condition1&#x27;, &#x27;Condition2&#x27;, &#x27;BldgType&#x27;, &#x27;HouseStyle&#x27;, &#x27;RoofStyle&#x27;, &#x27;RoofMatl&#x27;, &#x27;Exterior1st&#x27;, &#x27;Exterior2nd&#x27;, &#x27;ExterCond&#x27;, &#x27;Foundation&#x27;, &#x27;BsmtCond&#x27;, &#x27;BsmtExposure&#x27;, &#x27;BsmtFinType1&#x27;, &#x27;BsmtFinType2&#x27;, &#x27;Heating&#x27;, &#x27;CentralAir&#x27;, &#x27;Electrical&#x27;, &#x27;Functional&#x27;, &#x27;GarageType&#x27;, &#x27;GarageCond&#x27;, &#x27;PavedDrive&#x27;, &#x27;PoolQC&#x27;, &#x27;Fence&#x27;, &#x27;MiscFeature&#x27;, &#x27;SaleType&#x27;, &#x27;SaleCondition&#x27;, &#x27;CatMSSubClass&#x27;, &#x27;CatOverallCond&#x27;, &#x27;CatMoSold&#x27;, &#x27;CatYrSold&#x27;, &#x27;IsGarage&#x27;, &#x27;Is2ndFlr&#x27;, &#x27;WasRemod&#x27;]</pre></div></div></div><div class=\"sk-serial\"><div class=\"sk-item\"><div class=\"sk-serial\"><div class=\"sk-item\"><div class=\"sk-estimator sk-toggleable\"><input class=\"sk-toggleable__control sk-hidden--visually\" id=\"sk-estimator-id-17\" type=\"checkbox\" ><label for=\"sk-estimator-id-17\" class=\"sk-toggleable__label sk-toggleable__label-arrow\">OneHotEncoder</label><div class=\"sk-toggleable__content\"><pre>OneHotEncoder(handle_unknown=&#x27;ignore&#x27;)</pre></div></div></div></div></div></div></div></div></div></div><div class=\"sk-item\"><div class=\"sk-estimator sk-toggleable\"><input class=\"sk-toggleable__control sk-hidden--visually\" id=\"sk-estimator-id-18\" type=\"checkbox\" ><label for=\"sk-estimator-id-18\" class=\"sk-toggleable__label sk-toggleable__label-arrow\">ElasticNet</label><div class=\"sk-toggleable__content\"><pre>ElasticNet()</pre></div></div></div></div></div></div></div></div></div></div></div></div>"
      ],
      "text/plain": [
       "BayesSearchCV(cv=5,\n",
       "              estimator=Pipeline(steps=[('preprocessor',\n",
       "                                         ColumnTransformer(transformers=[('num',\n",
       "                                                                          Pipeline(steps=[('num',\n",
       "                                                                                           SimpleImputer(strategy='median')),\n",
       "                                                                                          ('scaler',\n",
       "                                                                                           StandardScaler())]),\n",
       "                                                                          ['LotFrontage',\n",
       "                                                                           'LotArea',\n",
       "                                                                           'OverallQual',\n",
       "                                                                           'YearBuilt',\n",
       "                                                                           'MasVnrType',\n",
       "                                                                           'MasVnrArea',\n",
       "                                                                           'ExterQual',\n",
       "                                                                           'BsmtQual',\n",
       "                                                                           'BsmtFinSF1',\n",
       "                                                                           'BsmtFinSF2',\n",
       "                                                                           'BsmtUnfSF',\n",
       "                                                                           'HeatingQC',\n",
       "                                                                           'LowQualFinSF...\n",
       "       0.99313131, 0.99333333, 0.99353535, 0.99373737, 0.99393939,\n",
       "       0.99414141, 0.99434343, 0.99454545, 0.99474747, 0.99494949,\n",
       "       0.99515152, 0.99535354, 0.99555556, 0.99575758, 0.9959596 ,\n",
       "       0.99616162, 0.99636364, 0.99656566, 0.99676768, 0.9969697 ,\n",
       "       0.99717172, 0.99737374, 0.99757576, 0.99777778, 0.9979798 ,\n",
       "       0.99818182, 0.99838384, 0.99858586, 0.99878788, 0.9989899 ,\n",
       "       0.99919192, 0.99939394, 0.99959596, 0.99979798, 1.        ])})"
      ]
     },
     "execution_count": 53,
     "metadata": {},
     "output_type": "execute_result"
    }
   ],
   "source": [
    "param_grid_2 = {\n",
    "    'model__alpha': np.linspace(0, 1000, 1000),\n",
    "    'model__l1_ratio': np.linspace(0.98, 1, 100)\n",
    "}\n",
    "\n",
    "lm2 = getPipeline(ElasticNet(), num_cols, cat_cols)\n",
    "\n",
    "BayCV = BayesSearchCV(lm2, search_spaces=param_grid_2, cv=CV_NO_FOLDS, n_iter=100, n_jobs=-1, scoring='r2', random_state=RANDOM_STATE)\n",
    "BayCV.fit(X_train_prep, y_train)"
   ]
  },
  {
   "cell_type": "code",
   "execution_count": 56,
   "metadata": {},
   "outputs": [
    {
     "name": "stdout",
     "output_type": "stream",
     "text": [
      "BAYES from now:\n",
      "score on test: 0.860508471874778\n",
      "CV best params: 0.8094135321615644\n",
      "CV best params: OrderedDict([('model__alpha', 9.00900900900901), ('model__l1_ratio', 0.9959595959595959)])\n",
      "RANDOMIZED from earlier search:\n",
      "score on test: 0.860508471874778\n",
      "CV best score: 0.8070493300615867\n",
      "CV best params: {'model__l1_ratio': 1.0, 'model__alpha': 465.4654654654655}\n"
     ]
    }
   ],
   "source": [
    "\n",
    "preds_bayCV_lm = rsCV.predict(X_test_prep)\n",
    "r2_bayCV_lm = r2_score(y_test, preds_bayCV_lm)\n",
    "\n",
    "print(\"BAYES from now:\")\n",
    "print(f\"score on test: {r2_bayCV_lm}\")\n",
    "print(f\"CV best params: {BayCV.best_score_}\")\n",
    "print(f\"CV best params: {BayCV.best_params_}\")\n",
    "\n",
    "print(\"RANDOMIZED from earlier search:\")\n",
    "print(f\"score on test: {r2_rsCV_lm}\")\n",
    "print(f\"CV best score: {rsCV.best_score_}\")\n",
    "print(f\"CV best params: {rsCV.best_params_}\")"
   ]
  },
  {
   "cell_type": "code",
   "execution_count": 61,
   "metadata": {},
   "outputs": [
    {
     "name": "stderr",
     "output_type": "stream",
     "text": [
      "C:\\Users\\macie\\AppData\\Roaming\\Python\\Python38\\site-packages\\sklearn\\ensemble\\_gb.py:437: DataConversionWarning: A column-vector y was passed when a 1d array was expected. Please change the shape of y to (n_samples, ), for example using ravel().\n",
      "  y = column_or_1d(y, warn=True)\n",
      "C:\\Users\\macie\\AppData\\Roaming\\Python\\Python38\\site-packages\\sklearn\\pipeline.py:405: DataConversionWarning: A column-vector y was passed when a 1d array was expected. Please change the shape of y to (n_samples,), for example using ravel().\n",
      "  self._final_estimator.fit(Xt, y, **fit_params_last_step)\n"
     ]
    }
   ],
   "source": [
    "grid_base = {}\n",
    "for model_name, model in models.items():\n",
    "    grid_base[model_name] = getPipeline(model, num_cols, cat_cols)\n",
    "    grid_base[model_name].fit(X_train_prep, y_train)"
   ]
  },
  {
   "cell_type": "markdown",
   "metadata": {},
   "source": [
    "### Below is summarize of scores of GridModels"
   ]
  },
  {
   "cell_type": "code",
   "execution_count": 69,
   "metadata": {},
   "outputs": [
    {
     "name": "stdout",
     "output_type": "stream",
     "text": [
      "\n",
      "**********\n",
      "\n",
      "Model name: ElasticNet \n",
      "\n",
      "CV score for Bayes: 0.7918660708966769\n",
      "CV score for Random: 0.8070493300615867\n",
      "CV score for Base: 0.7935956376281847\n",
      "/n\n",
      "R2 score on test set Bayes: 0.8378847274858741\n",
      "R2 score on test set Rand: 0.860508471874778\n",
      "R2 score on test set Base: 0.840521988124535\n",
      "\n",
      "**********\n",
      "\n",
      "Model name: GradientBoostingRegressor \n",
      "\n",
      "CV score for Bayes: 0.8713929574583649\n",
      "CV score for Random: 0.8662121500518773\n",
      "CV score for Base: 0.8635687736988018\n",
      "/n\n",
      "R2 score on test set Bayes: 0.8618257781573444\n",
      "R2 score on test set Rand: 0.8870172386227485\n",
      "R2 score on test set Base: 0.8525163775354825\n",
      "\n",
      "**********\n",
      "\n",
      "Model name: KNeighborsRegressor \n",
      "\n",
      "CV score for Bayes: 0.7704320420775022\n",
      "CV score for Random: 0.7683552540900713\n",
      "CV score for Base: 0.7354797662515736\n",
      "/n\n",
      "R2 score on test set Bayes: 0.831367577534079\n",
      "R2 score on test set Rand: 0.8267267175578178\n",
      "R2 score on test set Base: 0.8065983200732874\n",
      "\n",
      "**********\n",
      "\n",
      "Model name: RandomForestRegressor \n",
      "\n",
      "CV score for Bayes: 0.8382043107836903\n",
      "CV score for Random: 0.8382043107836903\n",
      "CV score for Base: 0.832163439018829\n",
      "/n\n",
      "R2 score on test set Bayes: 0.8589414243374688\n",
      "R2 score on test set Rand: 0.8589414243374688\n",
      "R2 score on test set Base: 0.8628548050453004\n"
     ]
    }
   ],
   "source": [
    "from sklearn.model_selection import cross_val_score\n",
    "from sklearn.metrics import r2_score\n",
    "import warnings\n",
    "warnings.filterwarnings('ignore')\n",
    "\n",
    "for key in models.keys():\n",
    "    bay_score = r2_score(y_test, grid_bayes[key].best_estimator_.predict(X_test_prep))\n",
    "    rand_score = r2_score(y_test, grid_random[key].best_estimator_.predict(X_test_prep))\n",
    "    base_score = r2_score(y_test, grid_base[key].predict(X_test_prep))\n",
    "\n",
    "    print(f'\\n{10*\"*\"}\\n')\n",
    "    print(f'Model name: {key} \\n')\n",
    "    print(f\"CV score for Bayes: {grid_bayes[key].best_score_}\")\n",
    "    print(f\"CV score for Random: {grid_random[key].best_score_}\")\n",
    "    print(f\"CV score for Base: {np.mean(cross_val_score(grid_base[key], X_train_prep, y_train, cv=CV_NO_FOLDS))}\")\n",
    "    print('/n')\n",
    "    print(f'R2 score on test set Bayes: {bay_score}')\n",
    "    print(f'R2 score on test set Rand: {rand_score}')\n",
    "    print(f'R2 score on test set Base: {base_score}')"
   ]
  },
  {
   "cell_type": "markdown",
   "metadata": {},
   "source": [
    "### Two things I did not expect (before starting building models):\n",
    "- base model won on RandomForest, that is base model (having such train and test) generalised data better than tuned models\n",
    "- Bayes is the poorest on ElasticNet"
   ]
  },
  {
   "cell_type": "markdown",
   "metadata": {},
   "source": [
    "### Note:\n",
    "##### The results given might be biased because CV split is not necessarily the same for each method of finding / not finding hyperparams"
   ]
  },
  {
   "cell_type": "markdown",
   "metadata": {},
   "source": [
    "### I could also compare how the best ElasticNets work on test set. In addition a good idea would to build model and make predictions especially for kaggle competition"
   ]
  }
 ],
 "metadata": {
  "kernelspec": {
   "display_name": "Python 3",
   "language": "python",
   "name": "python3"
  },
  "language_info": {
   "codemirror_mode": {
    "name": "ipython",
    "version": 3
   },
   "file_extension": ".py",
   "mimetype": "text/x-python",
   "name": "python",
   "nbconvert_exporter": "python",
   "pygments_lexer": "ipython3",
   "version": "3.8.3"
  }
 },
 "nbformat": 4,
 "nbformat_minor": 2
}
